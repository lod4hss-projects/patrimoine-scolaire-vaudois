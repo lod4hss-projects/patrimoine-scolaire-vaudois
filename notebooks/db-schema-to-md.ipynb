{
 "cells": [
  {
   "cell_type": "code",
   "execution_count": 27,
   "id": "9db3da80",
   "metadata": {},
   "outputs": [],
   "source": [
    "import json\n",
    "import pandas as pd\n",
    "from lxml import etree as etree\n",
    "import re\n",
    "import pprint"
   ]
  },
  {
   "cell_type": "code",
   "execution_count": 19,
   "id": "09f88cee",
   "metadata": {},
   "outputs": [
    {
     "name": "stdout",
     "output_type": "stream",
     "text": [
      "['__class__', '__copy__', '__deepcopy__', '__delattr__', '__dir__', '__doc__', '__eq__', '__format__', '__ge__', '__getattribute__', '__gt__', '__hash__', '__init__', '__init_subclass__', '__le__', '__lt__', '__ne__', '__new__', '__pyx_vtable__', '__reduce__', '__reduce_ex__', '__repr__', '__setattr__', '__sizeof__', '__str__', '__subclasshook__', '_setroot', 'docinfo', 'find', 'findall', 'findtext', 'getelementpath', 'getiterator', 'getpath', 'getroot', 'iter', 'iterfind', 'parse', 'parser', 'relaxng', 'write', 'write_c14n', 'xinclude', 'xmlschema', 'xpath', 'xslt']\n"
     ]
    }
   ],
   "source": [
    "file = '../database/fvps.graphml'\n",
    "tree = etree.parse(file)\n",
    "print(dir(tree))\n"
   ]
  },
  {
   "cell_type": "code",
   "execution_count": 20,
   "id": "e59fd98a",
   "metadata": {},
   "outputs": [
    {
     "name": "stdout",
     "output_type": "stream",
     "text": [
      "{http://graphml.graphdrawing.org/xmlns}graphml\n"
     ]
    }
   ],
   "source": [
    "root = tree.getroot()\n",
    "print(root.tag)"
   ]
  },
  {
   "cell_type": "code",
   "execution_count": 21,
   "id": "8335c716",
   "metadata": {},
   "outputs": [],
   "source": [
    "namespaces = {'y':'http://www.yworks.com/xml/graphml'}"
   ]
  },
  {
   "cell_type": "code",
   "execution_count": null,
   "id": "b300d70a",
   "metadata": {},
   "outputs": [
    {
     "name": "stdout",
     "output_type": "stream",
     "text": [
      "53\n"
     ]
    }
   ],
   "source": [
    "GenericNode = root.xpath('//y:GenericNode', namespaces=namespaces)\n",
    "print(len(GenericNode))"
   ]
  },
  {
   "cell_type": "code",
   "execution_count": 51,
   "id": "ae589823",
   "metadata": {},
   "outputs": [],
   "source": [
    "lgn = []\n",
    "for n in GenericNode:\n",
    "    ln = n.xpath(\"y:NodeLabel\", namespaces=namespaces)\n",
    "    lgn.append(ln)"
   ]
  },
  {
   "cell_type": "code",
   "execution_count": 52,
   "id": "00384ccc",
   "metadata": {},
   "outputs": [
    {
     "name": "stdout",
     "output_type": "stream",
     "text": [
      "[[<Element {http://www.yworks.com/xml/graphml}NodeLabel at 0x7fb8dd392080>, <Element {http://www.yworks.com/xml/graphml}NodeLabel at 0x7fb8dd1f96c0>], [<Element {http://www.yworks.com/xml/graphml}NodeLabel at 0x7fb8dd5a1280>, <Element {http://www.yworks.com/xml/graphml}NodeLabel at 0x7fb8dd209000>], [<Element {http://www.yworks.com/xml/graphml}NodeLabel at 0x7fb8dd209100>, <Element {http://www.yworks.com/xml/graphml}NodeLabel at 0x7fb8dd20a940>], [<Element {http://www.yworks.com/xml/graphml}NodeLabel at 0x7fb8dd20abc0>, <Element {http://www.yworks.com/xml/graphml}NodeLabel at 0x7fb8dd208a00>], [<Element {http://www.yworks.com/xml/graphml}NodeLabel at 0x7fb8dd20b6c0>, <Element {http://www.yworks.com/xml/graphml}NodeLabel at 0x7fb8dd20a080>], [<Element {http://www.yworks.com/xml/graphml}NodeLabel at 0x7fb8dd208a80>, <Element {http://www.yworks.com/xml/graphml}NodeLabel at 0x7fb8dd20ac40>], [<Element {http://www.yworks.com/xml/graphml}NodeLabel at 0x7fb8dd2081c0>, <Element {http://www.yworks.com/xml/graphml}NodeLabel at 0x7fb8dd20aa00>], [<Element {http://www.yworks.com/xml/graphml}NodeLabel at 0x7fb8dd20a8c0>, <Element {http://www.yworks.com/xml/graphml}NodeLabel at 0x7fb8dd20aec0>], [<Element {http://www.yworks.com/xml/graphml}NodeLabel at 0x7fb8dd20ba00>, <Element {http://www.yworks.com/xml/graphml}NodeLabel at 0x7fb8dd20bc00>], [<Element {http://www.yworks.com/xml/graphml}NodeLabel at 0x7fb8dd20a800>, <Element {http://www.yworks.com/xml/graphml}NodeLabel at 0x7fb8dd20b3c0>], [<Element {http://www.yworks.com/xml/graphml}NodeLabel at 0x7fb8dd20a480>, <Element {http://www.yworks.com/xml/graphml}NodeLabel at 0x7fb8dd20b000>], [<Element {http://www.yworks.com/xml/graphml}NodeLabel at 0x7fb8dd20bec0>, <Element {http://www.yworks.com/xml/graphml}NodeLabel at 0x7fb8dd20a3c0>], [<Element {http://www.yworks.com/xml/graphml}NodeLabel at 0x7fb8dd20a180>, <Element {http://www.yworks.com/xml/graphml}NodeLabel at 0x7fb8dd20a840>], [<Element {http://www.yworks.com/xml/graphml}NodeLabel at 0x7fb8dd20a640>, <Element {http://www.yworks.com/xml/graphml}NodeLabel at 0x7fb8dd20ba40>], [<Element {http://www.yworks.com/xml/graphml}NodeLabel at 0x7fb8dd20bd00>, <Element {http://www.yworks.com/xml/graphml}NodeLabel at 0x7fb8dd20b540>], [<Element {http://www.yworks.com/xml/graphml}NodeLabel at 0x7fb8dd209580>, <Element {http://www.yworks.com/xml/graphml}NodeLabel at 0x7fb8dd20bf80>], [<Element {http://www.yworks.com/xml/graphml}NodeLabel at 0x7fb8dd20b280>, <Element {http://www.yworks.com/xml/graphml}NodeLabel at 0x7fb8dd20bfc0>], [<Element {http://www.yworks.com/xml/graphml}NodeLabel at 0x7fb8dd20bf40>, <Element {http://www.yworks.com/xml/graphml}NodeLabel at 0x7fb8dd20ad00>], [<Element {http://www.yworks.com/xml/graphml}NodeLabel at 0x7fb8dd20bc80>, <Element {http://www.yworks.com/xml/graphml}NodeLabel at 0x7fb8dd2089c0>], [<Element {http://www.yworks.com/xml/graphml}NodeLabel at 0x7fb8dd20a540>, <Element {http://www.yworks.com/xml/graphml}NodeLabel at 0x7fb8dd20b7c0>], [<Element {http://www.yworks.com/xml/graphml}NodeLabel at 0x7fb8dd20adc0>, <Element {http://www.yworks.com/xml/graphml}NodeLabel at 0x7fb8dd20b800>], [<Element {http://www.yworks.com/xml/graphml}NodeLabel at 0x7fb8dd20a700>, <Element {http://www.yworks.com/xml/graphml}NodeLabel at 0x7fb8dd20a600>], [<Element {http://www.yworks.com/xml/graphml}NodeLabel at 0x7fb8dd20a6c0>, <Element {http://www.yworks.com/xml/graphml}NodeLabel at 0x7fb8dd20a040>], [<Element {http://www.yworks.com/xml/graphml}NodeLabel at 0x7fb8dd209500>, <Element {http://www.yworks.com/xml/graphml}NodeLabel at 0x7fb8dd20b2c0>], [<Element {http://www.yworks.com/xml/graphml}NodeLabel at 0x7fb8dd20b140>, <Element {http://www.yworks.com/xml/graphml}NodeLabel at 0x7fb8dd20ae40>], [<Element {http://www.yworks.com/xml/graphml}NodeLabel at 0x7fb8dd20b400>, <Element {http://www.yworks.com/xml/graphml}NodeLabel at 0x7fb8dd20bb00>], [<Element {http://www.yworks.com/xml/graphml}NodeLabel at 0x7fb8dd20a880>, <Element {http://www.yworks.com/xml/graphml}NodeLabel at 0x7fb8dd20b100>], [<Element {http://www.yworks.com/xml/graphml}NodeLabel at 0x7fb8dd209040>, <Element {http://www.yworks.com/xml/graphml}NodeLabel at 0x7fb8dd20ab80>], [<Element {http://www.yworks.com/xml/graphml}NodeLabel at 0x7fb8dd20ab00>, <Element {http://www.yworks.com/xml/graphml}NodeLabel at 0x7fb8dd20aa80>], [<Element {http://www.yworks.com/xml/graphml}NodeLabel at 0x7fb8dd20ab40>, <Element {http://www.yworks.com/xml/graphml}NodeLabel at 0x7fb8dd20ae80>], [<Element {http://www.yworks.com/xml/graphml}NodeLabel at 0x7fb8dd20bf00>, <Element {http://www.yworks.com/xml/graphml}NodeLabel at 0x7fb8dd2092c0>], [<Element {http://www.yworks.com/xml/graphml}NodeLabel at 0x7fb8dd208600>, <Element {http://www.yworks.com/xml/graphml}NodeLabel at 0x7fb8dd20be40>], [<Element {http://www.yworks.com/xml/graphml}NodeLabel at 0x7fb8dd20be80>, <Element {http://www.yworks.com/xml/graphml}NodeLabel at 0x7fb8dd20aac0>], [<Element {http://www.yworks.com/xml/graphml}NodeLabel at 0x7fb8dd20bdc0>, <Element {http://www.yworks.com/xml/graphml}NodeLabel at 0x7fb8dd20b880>], [<Element {http://www.yworks.com/xml/graphml}NodeLabel at 0x7fb8dd208e00>, <Element {http://www.yworks.com/xml/graphml}NodeLabel at 0x7fb8dd20aa40>], [<Element {http://www.yworks.com/xml/graphml}NodeLabel at 0x7fb8dd208e80>, <Element {http://www.yworks.com/xml/graphml}NodeLabel at 0x7fb8dd20a740>], [<Element {http://www.yworks.com/xml/graphml}NodeLabel at 0x7fb8dd20a900>, <Element {http://www.yworks.com/xml/graphml}NodeLabel at 0x7fb8dd20bb80>], [<Element {http://www.yworks.com/xml/graphml}NodeLabel at 0x7fb8dd20bbc0>, <Element {http://www.yworks.com/xml/graphml}NodeLabel at 0x7fb8dd20a300>], [<Element {http://www.yworks.com/xml/graphml}NodeLabel at 0x7fb8dd20b4c0>, <Element {http://www.yworks.com/xml/graphml}NodeLabel at 0x7fb8dd20a9c0>], [<Element {http://www.yworks.com/xml/graphml}NodeLabel at 0x7fb8dd209200>, <Element {http://www.yworks.com/xml/graphml}NodeLabel at 0x7fb8dd20bd40>], [<Element {http://www.yworks.com/xml/graphml}NodeLabel at 0x7fb8dd20a7c0>, <Element {http://www.yworks.com/xml/graphml}NodeLabel at 0x7fb8dd20b8c0>], [<Element {http://www.yworks.com/xml/graphml}NodeLabel at 0x7fb8dd20b940>, <Element {http://www.yworks.com/xml/graphml}NodeLabel at 0x7fb8dd20a980>], [<Element {http://www.yworks.com/xml/graphml}NodeLabel at 0x7fb8dd20be00>, <Element {http://www.yworks.com/xml/graphml}NodeLabel at 0x7fb8dd20b040>], [<Element {http://www.yworks.com/xml/graphml}NodeLabel at 0x7fb8dd208e40>, <Element {http://www.yworks.com/xml/graphml}NodeLabel at 0x7fb8dd209400>], [<Element {http://www.yworks.com/xml/graphml}NodeLabel at 0x7fb8dd209ac0>, <Element {http://www.yworks.com/xml/graphml}NodeLabel at 0x7fb8dd208580>], [<Element {http://www.yworks.com/xml/graphml}NodeLabel at 0x7fb8dd209700>, <Element {http://www.yworks.com/xml/graphml}NodeLabel at 0x7fb8dd208740>], [<Element {http://www.yworks.com/xml/graphml}NodeLabel at 0x7fb8dd208300>, <Element {http://www.yworks.com/xml/graphml}NodeLabel at 0x7fb8dd2084c0>], [<Element {http://www.yworks.com/xml/graphml}NodeLabel at 0x7fb8dd209080>, <Element {http://www.yworks.com/xml/graphml}NodeLabel at 0x7fb8dd209680>], [<Element {http://www.yworks.com/xml/graphml}NodeLabel at 0x7fb8dd2091c0>, <Element {http://www.yworks.com/xml/graphml}NodeLabel at 0x7fb8dd208180>], [<Element {http://www.yworks.com/xml/graphml}NodeLabel at 0x7fb8dd209240>, <Element {http://www.yworks.com/xml/graphml}NodeLabel at 0x7fb8dd20b9c0>], [<Element {http://www.yworks.com/xml/graphml}NodeLabel at 0x7fb8dd209740>, <Element {http://www.yworks.com/xml/graphml}NodeLabel at 0x7fb8dd208240>], [<Element {http://www.yworks.com/xml/graphml}NodeLabel at 0x7fb8dd20b380>, <Element {http://www.yworks.com/xml/graphml}NodeLabel at 0x7fb8dd208800>], [<Element {http://www.yworks.com/xml/graphml}NodeLabel at 0x7fb8dd20a400>, <Element {http://www.yworks.com/xml/graphml}NodeLabel at 0x7fb8dd208f40>]]\n"
     ]
    }
   ],
   "source": [
    "print(lgn)"
   ]
  },
  {
   "cell_type": "code",
   "execution_count": 74,
   "id": "df2f0510",
   "metadata": {},
   "outputs": [],
   "source": [
    "nlgn = []\n",
    "ind = 0\n",
    "for i in lgn:\n",
    "    li = []\n",
    "    for e in i:\n",
    "        li.append(' '.join(e.xpath('text()')).replace('\\t', '').replace('\\n', ' ').strip().split(' '))\n",
    "    nlgn.append([li, len(li), ind])\n",
    "    ind += 1"
   ]
  },
  {
   "cell_type": "code",
   "execution_count": 77,
   "id": "3c5d2548",
   "metadata": {},
   "outputs": [
    {
     "name": "stdout",
     "output_type": "stream",
     "text": [
      "[[['analyses'],\n",
      "  ['id',\n",
      "   'name',\n",
      "   'analysessubcat_id',\n",
      "   'slug',\n",
      "   'auteur',\n",
      "   'annee',\n",
      "   'edition',\n",
      "   'editeur',\n",
      "   'lieu',\n",
      "   'format',\n",
      "   'url',\n",
      "   'niveau_scolaire',\n",
      "   'provenance',\n",
      "   'num_inventaire',\n",
      "   'annee_precise',\n",
      "   'prix',\n",
      "   'stock',\n",
      "   'nb_ventes_autorisees',\n",
      "   'team_comment',\n",
      "   'localisation',\n",
      "   'etat',\n",
      "   'begin',\n",
      "   'end',\n",
      "   'revisions',\n",
      "   'cherchable',\n",
      "   'online',\n",
      "   'views',\n",
      "   'created_at',\n",
      "   'updated_at']],\n",
      " 2,\n",
      " 2]\n"
     ]
    }
   ],
   "source": [
    "pprint.pprint(nlgn[2])"
   ]
  },
  {
   "cell_type": "code",
   "execution_count": 79,
   "id": "43e51c8a",
   "metadata": {},
   "outputs": [
    {
     "name": "stdout",
     "output_type": "stream",
     "text": [
      "[['cahiers_medias'], ['id', 'name', 'slug', 'original_filename', 'filename', 'extension', 'type', 'size', 'video_id', 'gallery_name', 'gallery_slug', 'folder_name', 'folder_slug', 'alternatif', 'title', 'clickTag', 'artwork', 'uploaded', 'position', 'lang', 'created', 'revisions', 'last_modified', 'cahiers_id', 'online']]\n"
     ]
    }
   ],
   "source": [
    "print(nlgn[15][0])"
   ]
  },
  {
   "cell_type": "code",
   "execution_count": 90,
   "id": "ea222c91",
   "metadata": {},
   "outputs": [
    {
     "name": "stdout",
     "output_type": "stream",
     "text": [
      "### cahiers_medias\n",
      "<br/>\n",
      "<table>\n",
      "            <tr>\n",
      "                <th>Champ</th>\n",
      "                <th>Mapping</th>\n",
      "                <th>Notes</th>\n",
      "            </tr>    \n",
      "                \n",
      "            <tr>\n",
      "                <td>id</td>\n",
      "                <td></td>\n",
      "                <td></td>\n",
      "            </tr>\n",
      "            <tr>\n",
      "                <td>name</td>\n",
      "                <td></td>\n",
      "                <td></td>\n",
      "            </tr>\n",
      "            <tr>\n",
      "                <td>slug</td>\n",
      "                <td></td>\n",
      "                <td></td>\n",
      "            </tr>\n",
      "            <tr>\n",
      "                <td>original_filename</td>\n",
      "                <td></td>\n",
      "                <td></td>\n",
      "            </tr>\n",
      "            <tr>\n",
      "                <td>filename</td>\n",
      "                <td></td>\n",
      "                <td></td>\n",
      "            </tr>\n",
      "            <tr>\n",
      "                <td>extension</td>\n",
      "                <td></td>\n",
      "                <td></td>\n",
      "            </tr>\n",
      "            <tr>\n",
      "                <td>type</td>\n",
      "                <td></td>\n",
      "                <td></td>\n",
      "            </tr>\n",
      "            <tr>\n",
      "                <td>size</td>\n",
      "                <td></td>\n",
      "                <td></td>\n",
      "            </tr>\n",
      "            <tr>\n",
      "                <td>video_id</td>\n",
      "                <td></td>\n",
      "                <td></td>\n",
      "            </tr>\n",
      "            <tr>\n",
      "                <td>gallery_name</td>\n",
      "                <td></td>\n",
      "                <td></td>\n",
      "            </tr>\n",
      "            <tr>\n",
      "                <td>gallery_slug</td>\n",
      "                <td></td>\n",
      "                <td></td>\n",
      "            </tr>\n",
      "            <tr>\n",
      "                <td>folder_name</td>\n",
      "                <td></td>\n",
      "                <td></td>\n",
      "            </tr>\n",
      "            <tr>\n",
      "                <td>folder_slug</td>\n",
      "                <td></td>\n",
      "                <td></td>\n",
      "            </tr>\n",
      "            <tr>\n",
      "                <td>alternatif</td>\n",
      "                <td></td>\n",
      "                <td></td>\n",
      "            </tr>\n",
      "            <tr>\n",
      "                <td>title</td>\n",
      "                <td></td>\n",
      "                <td></td>\n",
      "            </tr>\n",
      "            <tr>\n",
      "                <td>clickTag</td>\n",
      "                <td></td>\n",
      "                <td></td>\n",
      "            </tr>\n",
      "            <tr>\n",
      "                <td>artwork</td>\n",
      "                <td></td>\n",
      "                <td></td>\n",
      "            </tr>\n",
      "            <tr>\n",
      "                <td>uploaded</td>\n",
      "                <td></td>\n",
      "                <td></td>\n",
      "            </tr>\n",
      "            <tr>\n",
      "                <td>position</td>\n",
      "                <td></td>\n",
      "                <td></td>\n",
      "            </tr>\n",
      "            <tr>\n",
      "                <td>lang</td>\n",
      "                <td></td>\n",
      "                <td></td>\n",
      "            </tr>\n",
      "            <tr>\n",
      "                <td>created</td>\n",
      "                <td></td>\n",
      "                <td></td>\n",
      "            </tr>\n",
      "            <tr>\n",
      "                <td>revisions</td>\n",
      "                <td></td>\n",
      "                <td></td>\n",
      "            </tr>\n",
      "            <tr>\n",
      "                <td>last_modified</td>\n",
      "                <td></td>\n",
      "                <td></td>\n",
      "            </tr>\n",
      "            <tr>\n",
      "                <td>cahiers_id</td>\n",
      "                <td></td>\n",
      "                <td></td>\n",
      "            </tr>\n",
      "            <tr>\n",
      "                <td>online</td>\n",
      "                <td></td>\n",
      "                <td></td>\n",
      "            </tr></table> \n",
      " <br/><br/> \n",
      "\n"
     ]
    }
   ],
   "source": [
    "ll= nlgn[15][0]\n",
    "print('### ' + ll[0][0] + '\\n'+ '<br/>\\n' +\\\n",
    "       \"\"\"<table>\n",
    "            <tr>\n",
    "                <th>Champ</th>\n",
    "                <th>Mapping</th>\n",
    "                <th>Notes</th>\n",
    "            </tr>    \n",
    "                \"\"\" + \\\n",
    "      ''.join([\"\"\"\n",
    "            <tr>\n",
    "                <td>\"\"\" + e + \"\"\"</td>\n",
    "                <td></td>\n",
    "                <td></td>\n",
    "            </tr>\"\"\"\n",
    "                 for e in ll[1]]) + \n",
    "            '</table> \\n <br/><br/> \\n'  \n",
    "      )"
   ]
  },
  {
   "cell_type": "code",
   "execution_count": 104,
   "id": "7f77c025",
   "metadata": {},
   "outputs": [],
   "source": [
    "text = ''\n",
    "\n",
    "for a in nlgn:\n",
    "    ll = a[0]\n",
    "\n",
    "    text += ('\\n### ' + ll[0][0] + ' \\n'+ '<br/>\\n' +\\\n",
    "       \"\"\"<table>\n",
    "            <tr>\n",
    "                <th>Champ</th>\n",
    "                <th>Mapping</th>\n",
    "                <th>Notes</th>\n",
    "            </tr>\"\"\" + \\\n",
    "      ''.join([\"\"\"<tr>\n",
    "    <td>\"\"\" + e + \"\"\"</td>\n",
    "    <td></td>\n",
    "    <td></td>\n",
    "</tr>\"\"\" for e in ll[1]]\n",
    ") \n",
    "+ '</table> \\n<br/>\\n'\n",
    ")   "
   ]
  },
  {
   "cell_type": "code",
   "execution_count": 105,
   "id": "37d7b4d1",
   "metadata": {},
   "outputs": [],
   "source": [
    "with open('../database/database-mapping.md', 'w') as f:\n",
    "    f.write(text)"
   ]
  },
  {
   "cell_type": "code",
   "execution_count": null,
   "id": "e5d313f8",
   "metadata": {},
   "outputs": [],
   "source": []
  }
 ],
 "metadata": {
  "kernelspec": {
   "display_name": "py310_html_xml",
   "language": "python",
   "name": "py310_html_xml"
  },
  "language_info": {
   "codemirror_mode": {
    "name": "ipython",
    "version": 3
   },
   "file_extension": ".py",
   "mimetype": "text/x-python",
   "name": "python",
   "nbconvert_exporter": "python",
   "pygments_lexer": "ipython3",
   "version": "3.10.8"
  }
 },
 "nbformat": 4,
 "nbformat_minor": 5
}
